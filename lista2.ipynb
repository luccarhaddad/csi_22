{
 "cells": [
  {
   "cell_type": "markdown",
   "metadata": {},
   "source": [
    "# Lista 2 CSI-22"
   ]
  },
  {
   "attachments": {},
   "cell_type": "markdown",
   "metadata": {},
   "source": [
    "## Questão 1"
   ]
  },
  {
   "cell_type": "code",
   "execution_count": 128,
   "metadata": {},
   "outputs": [],
   "source": [
    "def remove_empty_from_tuple(tuple_list):\n",
    "    for t in tuple_list:\n",
    "        if t == ():\n",
    "            tuple_list.remove(t)"
   ]
  },
  {
   "attachments": {},
   "cell_type": "markdown",
   "metadata": {},
   "source": [
    "## Questão 2"
   ]
  },
  {
   "cell_type": "code",
   "execution_count": 127,
   "metadata": {},
   "outputs": [],
   "source": [
    "def create_mean_tuple(tuple_list):\n",
    "    k = ()\n",
    "    for i in range(len(tuple_list)):\n",
    "        for j in range(len(tuple_list[i])):\n",
    "            temp = 0\n",
    "            temp += tuple_list[i][j]\n",
    "        k += (round(temp/len(tuple_list[i]), 2),)\n",
    "    return k"
   ]
  },
  {
   "attachments": {},
   "cell_type": "markdown",
   "metadata": {},
   "source": [
    "## Questão 3"
   ]
  },
  {
   "cell_type": "code",
   "execution_count": 126,
   "metadata": {},
   "outputs": [],
   "source": [
    "def alfa_and_number_list(X):\n",
    "    new_list = []\n",
    "\n",
    "    for s in X:\n",
    "        alpha_flag = False\n",
    "        digit_flag = False\n",
    "        for c in s:\n",
    "            if c.isalpha():\n",
    "                alpha_flag = True\n",
    "            if c.isdigit():\n",
    "                digit_flag = True\n",
    "        if alpha_flag and digit_flag:\n",
    "            new_list.append(s)\n",
    "    \n",
    "    return new_list"
   ]
  },
  {
   "attachments": {},
   "cell_type": "markdown",
   "metadata": {},
   "source": [
    "## Questão 4"
   ]
  },
  {
   "cell_type": "code",
   "execution_count": 125,
   "metadata": {},
   "outputs": [],
   "source": [
    "def check_strings(A: str, B: str) -> bool:\n",
    "    string_a = list(set(A))\n",
    "    string_b = list(set(B))\n",
    "\n",
    "    comparison = True\n",
    "\n",
    "    for x in range(len(string_a)):\n",
    "        for y in range(len(string_b)):\n",
    "            if(string_a[x] == string_b[y]): break\n",
    "            else: \n",
    "                if(y == (len(string_b) - 1)): comparison = False\n",
    "\n",
    "    return comparison"
   ]
  },
  {
   "attachments": {},
   "cell_type": "markdown",
   "metadata": {},
   "source": [
    "## Questão 5"
   ]
  },
  {
   "cell_type": "code",
   "execution_count": 124,
   "metadata": {},
   "outputs": [],
   "source": [
    "import numpy as np\n",
    "\n",
    "def matrix_multiplier(A, B):\n",
    "    columns_a = len(A[0])\n",
    "    columns_b = len(B[0])\n",
    "    rows_a = len(A)\n",
    "    rows_b = len(B)\n",
    "\n",
    "    if(columns_a != rows_b):\n",
    "        return print('Dimensoes incompativeis')\n",
    "    else:\n",
    "        C = np.zeros((rows_a, columns_b))\n",
    "        for i in range(rows_a): # Percorre as linhas de A\n",
    "            for j in range(columns_b): # Percorre as colunas de B\n",
    "                temp = 0\n",
    "                for x in range(columns_a): # Percorre os elementos de uma linha de A\n",
    "                    temp += A[i][x]*B[x][j]\n",
    "                C[i][j] = temp\n",
    "        return C"
   ]
  },
  {
   "attachments": {},
   "cell_type": "markdown",
   "metadata": {},
   "source": [
    "## Questão 6"
   ]
  },
  {
   "cell_type": "code",
   "execution_count": 135,
   "metadata": {},
   "outputs": [
    {
     "name": "stdout",
     "output_type": "stream",
     "text": [
      "[8, 7, 4]\n"
     ]
    }
   ],
   "source": [
    "def reverse_read(x):\n",
    "    x = list(reversed(x))\n",
    "    for i in range(len(x)):\n",
    "        yield x[i]\n",
    "\n",
    "y = [4,7,8]\n",
    "z = list(reverse_read(y))\n",
    "\n",
    "print(z)"
   ]
  },
  {
   "attachments": {},
   "cell_type": "markdown",
   "metadata": {},
   "source": [
    "## Questão 7"
   ]
  },
  {
   "cell_type": "code",
   "execution_count": 123,
   "metadata": {},
   "outputs": [],
   "source": [
    "def generate_primes(n):\n",
    "\n",
    "    vector = [True] * (n+1)\n",
    "    vector[0] = vector[1] = False\n",
    "\n",
    "    for i in range(2, int(n**0.5)+1):\n",
    "        if vector[i]:\n",
    "            for j in range(i*i, n+1, i):\n",
    "                vector[j] = False\n",
    "\n",
    "    for k in range(2, n+1):\n",
    "        if vector[k]:\n",
    "            yield k"
   ]
  },
  {
   "attachments": {},
   "cell_type": "markdown",
   "metadata": {},
   "source": [
    "## Questão 8"
   ]
  },
  {
   "cell_type": "code",
   "execution_count": 122,
   "metadata": {},
   "outputs": [],
   "source": [
    "is_even = lambda x: x%2 == 0\n",
    "\n",
    "def filter_even_numbers(x):\n",
    "    return list(filter(is_even, x))\n"
   ]
  },
  {
   "attachments": {},
   "cell_type": "markdown",
   "metadata": {},
   "source": [
    "## Questão 9 "
   ]
  },
  {
   "cell_type": "code",
   "execution_count": 121,
   "metadata": {},
   "outputs": [
    {
     "name": "stdout",
     "output_type": "stream",
     "text": [
      "[6, 15, 24]\n"
     ]
    }
   ],
   "source": [
    "def function_by_line(matrix, function):\n",
    "    return list(map(lambda line: function(line), matrix))\n",
    "\n",
    "x = [[1,2,3],\n",
    "     [4,5,6],\n",
    "     [7,8,9]]\n",
    "\n",
    "y = function_by_line(x, sum)\n",
    "print(y)"
   ]
  }
 ],
 "metadata": {
  "kernelspec": {
   "display_name": "Python 3 (ipykernel)",
   "language": "python",
   "name": "python3"
  },
  "language_info": {
   "codemirror_mode": {
    "name": "ipython",
    "version": 3
   },
   "file_extension": ".py",
   "mimetype": "text/x-python",
   "name": "python",
   "nbconvert_exporter": "python",
   "pygments_lexer": "ipython3",
   "version": "3.9.13"
  },
  "orig_nbformat": 4
 },
 "nbformat": 4,
 "nbformat_minor": 2
}
