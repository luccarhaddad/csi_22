{
 "cells": [
  {
   "cell_type": "markdown",
   "metadata": {},
   "source": [
    "# Lista 2 CSI-22"
   ]
  },
  {
   "attachments": {},
   "cell_type": "markdown",
   "metadata": {},
   "source": [
    "## Questão 1"
   ]
  },
  {
   "cell_type": "code",
   "execution_count": 87,
   "metadata": {},
   "outputs": [],
   "source": [
    "def remove_empty_from_tuple(tuple_list):\n",
    "    for t in tuple_list:\n",
    "        if t == ():\n",
    "            tuple_list.remove(t)"
   ]
  },
  {
   "attachments": {},
   "cell_type": "markdown",
   "metadata": {},
   "source": [
    "## Questão 2"
   ]
  },
  {
   "cell_type": "code",
   "execution_count": 88,
   "metadata": {},
   "outputs": [],
   "source": [
    "def create_mean_tuple(tuple_list):\n",
    "    k = ()\n",
    "    for i in range(len(tuple_list)):\n",
    "        for j in range(len(tuple_list[i])):\n",
    "            temp = 0\n",
    "            temp += tuple_list[i][j]\n",
    "        k += (round(temp/len(tuple_list[i]), 2),)\n",
    "    return k"
   ]
  },
  {
   "attachments": {},
   "cell_type": "markdown",
   "metadata": {},
   "source": [
    "## Questão 3"
   ]
  },
  {
   "cell_type": "code",
   "execution_count": 89,
   "metadata": {},
   "outputs": [],
   "source": [
    "def alfa_and_number_list(X):\n",
    "    new_list = []\n",
    "\n",
    "    for s in X:\n",
    "        alpha_flag = False\n",
    "        digit_flag = False\n",
    "        for c in s:\n",
    "            if c.isalpha():\n",
    "                alpha_flag = True\n",
    "            if c.isdigit():\n",
    "                digit_flag = True\n",
    "        if alpha_flag and digit_flag:\n",
    "            new_list.append(s)\n",
    "    \n",
    "    return new_list"
   ]
  },
  {
   "attachments": {},
   "cell_type": "markdown",
   "metadata": {},
   "source": [
    "## Questão 4"
   ]
  },
  {
   "cell_type": "code",
   "execution_count": 90,
   "metadata": {},
   "outputs": [],
   "source": [
    "def check_strings(A: str, B: str) -> bool:\n",
    "    string_a = list(set(A))\n",
    "    string_b = list(set(B))\n",
    "\n",
    "    comparison = True\n",
    "\n",
    "    for x in range(len(string_a)):\n",
    "        for y in range(len(string_b)):\n",
    "            if(string_a[x] == string_b[y]): break\n",
    "            else: \n",
    "                if(y == (len(string_b) - 1)): comparison = False\n",
    "\n",
    "    return comparison"
   ]
  },
  {
   "attachments": {},
   "cell_type": "markdown",
   "metadata": {},
   "source": [
    "## Questão 5"
   ]
  },
  {
   "cell_type": "code",
   "execution_count": 56,
   "metadata": {},
   "outputs": [
    {
     "ename": "IndexError",
     "evalue": "list index out of range",
     "output_type": "error",
     "traceback": [
      "\u001b[0;31m---------------------------------------------------------------------------\u001b[0m",
      "\u001b[0;31mIndexError\u001b[0m                                Traceback (most recent call last)",
      "\u001b[1;32m/Users/haddad/Documents/1Comp/csi_22/lista2.ipynb Cell 11\u001b[0m in \u001b[0;36m<cell line: 24>\u001b[0;34m()\u001b[0m\n\u001b[1;32m     <a href='vscode-notebook-cell:/Users/haddad/Documents/1Comp/csi_22/lista2.ipynb#X15sZmlsZQ%3D%3D?line=16'>17</a>\u001b[0m A \u001b[39m=\u001b[39m [[\u001b[39m1\u001b[39m, \u001b[39m4\u001b[39m, \u001b[39m5\u001b[39m], \n\u001b[1;32m     <a href='vscode-notebook-cell:/Users/haddad/Documents/1Comp/csi_22/lista2.ipynb#X15sZmlsZQ%3D%3D?line=17'>18</a>\u001b[0m     [\u001b[39m-\u001b[39m\u001b[39m5\u001b[39m, \u001b[39m8\u001b[39m, \u001b[39m9\u001b[39m]]\n\u001b[1;32m     <a href='vscode-notebook-cell:/Users/haddad/Documents/1Comp/csi_22/lista2.ipynb#X15sZmlsZQ%3D%3D?line=19'>20</a>\u001b[0m B \u001b[39m=\u001b[39m [[\u001b[39m1\u001b[39m,\u001b[39m0\u001b[39m,\u001b[39m0\u001b[39m],\n\u001b[1;32m     <a href='vscode-notebook-cell:/Users/haddad/Documents/1Comp/csi_22/lista2.ipynb#X15sZmlsZQ%3D%3D?line=20'>21</a>\u001b[0m      [\u001b[39m0\u001b[39m,\u001b[39m1\u001b[39m,\u001b[39m0\u001b[39m],\n\u001b[1;32m     <a href='vscode-notebook-cell:/Users/haddad/Documents/1Comp/csi_22/lista2.ipynb#X15sZmlsZQ%3D%3D?line=21'>22</a>\u001b[0m      [\u001b[39m0\u001b[39m,\u001b[39m0\u001b[39m,\u001b[39m1\u001b[39m]]\n\u001b[0;32m---> <a href='vscode-notebook-cell:/Users/haddad/Documents/1Comp/csi_22/lista2.ipynb#X15sZmlsZQ%3D%3D?line=23'>24</a>\u001b[0m C \u001b[39m=\u001b[39m matrix_multiplier(A,B)\n\u001b[1;32m     <a href='vscode-notebook-cell:/Users/haddad/Documents/1Comp/csi_22/lista2.ipynb#X15sZmlsZQ%3D%3D?line=24'>25</a>\u001b[0m \u001b[39mprint\u001b[39m(C)\n",
      "\u001b[1;32m/Users/haddad/Documents/1Comp/csi_22/lista2.ipynb Cell 11\u001b[0m in \u001b[0;36mmatrix_multiplier\u001b[0;34m(A, B)\u001b[0m\n\u001b[1;32m     <a href='vscode-notebook-cell:/Users/haddad/Documents/1Comp/csi_22/lista2.ipynb#X15sZmlsZQ%3D%3D?line=10'>11</a>\u001b[0m                 temp \u001b[39m=\u001b[39m \u001b[39m0\u001b[39m\n\u001b[1;32m     <a href='vscode-notebook-cell:/Users/haddad/Documents/1Comp/csi_22/lista2.ipynb#X15sZmlsZQ%3D%3D?line=11'>12</a>\u001b[0m                 \u001b[39mfor\u001b[39;00m j \u001b[39min\u001b[39;00m \u001b[39mrange\u001b[39m(\u001b[39mlen\u001b[39m(B)): \u001b[39m#Coluna da matriz A/Linha da matriz B\u001b[39;00m\n\u001b[0;32m---> <a href='vscode-notebook-cell:/Users/haddad/Documents/1Comp/csi_22/lista2.ipynb#X15sZmlsZQ%3D%3D?line=12'>13</a>\u001b[0m                     temp \u001b[39m+\u001b[39m\u001b[39m=\u001b[39m A[l][j]\u001b[39m*\u001b[39mB[j][i]\n\u001b[1;32m     <a href='vscode-notebook-cell:/Users/haddad/Documents/1Comp/csi_22/lista2.ipynb#X15sZmlsZQ%3D%3D?line=13'>14</a>\u001b[0m         C[k][l] \u001b[39m=\u001b[39m temp\n\u001b[1;32m     <a href='vscode-notebook-cell:/Users/haddad/Documents/1Comp/csi_22/lista2.ipynb#X15sZmlsZQ%3D%3D?line=14'>15</a>\u001b[0m \u001b[39mreturn\u001b[39;00m C\n",
      "\u001b[0;31mIndexError\u001b[0m: list index out of range"
     ]
    }
   ],
   "source": [
    "import numpy as np\n",
    "\n",
    "def matrix_multiplier(A, B):\n",
    "    if(len(A[0]) != len(B)):\n",
    "        return print('Dimensoes incompativeis')\n",
    "    else:\n",
    "        C = np.zeros((len(A), len(B[0])))\n",
    "        for k in range(len(A[0])): #Linha da matriz resultante\n",
    "            for l in range(len(B)): #Coluna da matriz resultante\n",
    "                for i in range(len(B[0])): #Coluna da matriz B\n",
    "                    temp = 0\n",
    "                    for j in range(len(B)): #Coluna da matriz A/Linha da matriz B\n",
    "                        temp += A[l][j]*B[j][i]\n",
    "            C[k][l] = temp\n",
    "    return C\n",
    "\n",
    "A = [[1, 4, 5], \n",
    "    [-5, 8, 9]]\n",
    "\n",
    "B = [[1,0,0],\n",
    "     [0,1,0],\n",
    "     [0,0,1]]\n",
    "\n",
    "C = matrix_multiplier(A,B)\n",
    "print(C)"
   ]
  },
  {
   "attachments": {},
   "cell_type": "markdown",
   "metadata": {},
   "source": [
    "## Questão 6"
   ]
  },
  {
   "cell_type": "code",
   "execution_count": null,
   "metadata": {},
   "outputs": [],
   "source": [
    "def "
   ]
  },
  {
   "attachments": {},
   "cell_type": "markdown",
   "metadata": {},
   "source": [
    "## Questão 7"
   ]
  },
  {
   "cell_type": "code",
   "execution_count": null,
   "metadata": {},
   "outputs": [],
   "source": []
  },
  {
   "attachments": {},
   "cell_type": "markdown",
   "metadata": {},
   "source": [
    "## Questão 8"
   ]
  },
  {
   "cell_type": "code",
   "execution_count": 93,
   "metadata": {},
   "outputs": [],
   "source": [
    "is_even = lambda x: x%2 == 0\n",
    "\n",
    "def filter_even_numbers(x):\n",
    "    return list(filter(is_even, x))\n"
   ]
  },
  {
   "attachments": {},
   "cell_type": "markdown",
   "metadata": {},
   "source": [
    "## Questão 9 "
   ]
  },
  {
   "cell_type": "code",
   "execution_count": null,
   "metadata": {},
   "outputs": [],
   "source": [
    "def row_sum(x):\n",
    "    value = 0\n",
    "    for i in range(len(x)):\n",
    "        value += x[i]\n",
    "    return value\n",
    "\n",
    "result = list(map())"
   ]
  }
 ],
 "metadata": {
  "kernelspec": {
   "display_name": "Python 3 (ipykernel)",
   "language": "python",
   "name": "python3"
  },
  "language_info": {
   "codemirror_mode": {
    "name": "ipython",
    "version": 3
   },
   "file_extension": ".py",
   "mimetype": "text/x-python",
   "name": "python",
   "nbconvert_exporter": "python",
   "pygments_lexer": "ipython3",
   "version": "3.9.13"
  },
  "orig_nbformat": 4
 },
 "nbformat": 4,
 "nbformat_minor": 2
}
