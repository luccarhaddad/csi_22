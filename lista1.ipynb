{
 "cells": [
  {
   "attachments": {},
   "cell_type": "markdown",
   "metadata": {},
   "source": [
    "# Lista 1 CSI-22"
   ]
  },
  {
   "attachments": {},
   "cell_type": "markdown",
   "metadata": {},
   "source": [
    "## Questão 1"
   ]
  },
  {
   "cell_type": "code",
   "execution_count": 1,
   "metadata": {},
   "outputs": [],
   "source": [
    "import turtle\n",
    "import numpy as np\n",
    "\n",
    "def drawSquare(t, sz):\n",
    "    t.up()\n",
    "    t.setpos(x=-sz/2, y=-sz/2)\n",
    "    t.down()\n",
    "    for i in range(4):\n",
    "        t.width(4)\n",
    "        t.color('purple')\n",
    "        t.forward(sz)\n",
    "        t.left(90)\n",
    "\n",
    "wn = turtle.Screen()\n",
    "wn.bgcolor(\"lightgreen\")\n",
    "wn.title(\"Square drawing\")\n",
    "alex = turtle.Turtle()\n",
    "\n",
    "for j in range(5):\n",
    "    drawSquare(alex, 20 + 20*j)\n",
    "\n",
    "wn.mainloop()"
   ]
  },
  {
   "attachments": {},
   "cell_type": "markdown",
   "metadata": {},
   "source": [
    "## Questão 2"
   ]
  },
  {
   "cell_type": "code",
   "execution_count": 3,
   "metadata": {},
   "outputs": [],
   "source": [
    "import turtle\n",
    "import numpy as np\n",
    "\n",
    "wn = turtle.Screen()\n",
    "wn.bgcolor(\"lightgreen\")\n",
    "wn.title(\"Square drawing\")\n",
    "alex = turtle.Turtle()\n",
    "\n",
    "def draw_poly(t, n, sz):\n",
    "    t.up()\n",
    "    t.setpos(x=-sz/2,y=-sz/(2*np.tan(np.pi/n)))\n",
    "    t.down()\n",
    "    for i in range(n):\n",
    "        t.width(4)\n",
    "        t.color('purple')\n",
    "        t.forward(sz)\n",
    "        t.left(360/n)\n",
    "\n",
    "draw_poly(alex, 8, 50)\n",
    "\n",
    "wn.mainloop()"
   ]
  },
  {
   "attachments": {},
   "cell_type": "markdown",
   "metadata": {},
   "source": [
    "## Questão 3"
   ]
  },
  {
   "cell_type": "code",
   "execution_count": 4,
   "metadata": {},
   "outputs": [
    {
     "name": "stdout",
     "output_type": "stream",
     "text": [
      "55.0\n"
     ]
    }
   ],
   "source": [
    "def sum_to(n):\n",
    "    return (1+n)*(n/2)\n",
    "\n",
    "n = int(input())\n",
    "\n",
    "print(sum_to(n))"
   ]
  },
  {
   "attachments": {},
   "cell_type": "markdown",
   "metadata": {},
   "source": [
    "## Questão 4"
   ]
  },
  {
   "cell_type": "code",
   "execution_count": 6,
   "metadata": {},
   "outputs": [
    {
     "ename": "Terminator",
     "evalue": "",
     "output_type": "error",
     "traceback": [
      "\u001b[0;31m---------------------------------------------------------------------------\u001b[0m",
      "\u001b[0;31mTerminator\u001b[0m                                Traceback (most recent call last)",
      "\u001b[1;32m/Users/haddad/Documents/1Comp/csi_22/lista1.ipynb Cell 9\u001b[0m in \u001b[0;36m<cell line: 23>\u001b[0;34m()\u001b[0m\n\u001b[1;32m     <a href='vscode-notebook-cell:/Users/haddad/Documents/1Comp/csi_22/lista1.ipynb#X16sZmlsZQ%3D%3D?line=19'>20</a>\u001b[0m wn\u001b[39m.\u001b[39mtitle(\u001b[39m\"\u001b[39m\u001b[39mSpiral Drawing\u001b[39m\u001b[39m\"\u001b[39m)\n\u001b[1;32m     <a href='vscode-notebook-cell:/Users/haddad/Documents/1Comp/csi_22/lista1.ipynb#X16sZmlsZQ%3D%3D?line=20'>21</a>\u001b[0m alex \u001b[39m=\u001b[39m turtle\u001b[39m.\u001b[39mTurtle()\n\u001b[0;32m---> <a href='vscode-notebook-cell:/Users/haddad/Documents/1Comp/csi_22/lista1.ipynb#X16sZmlsZQ%3D%3D?line=22'>23</a>\u001b[0m draw_spirals(alex, \u001b[39m100\u001b[39;49m)\n",
      "\u001b[1;32m/Users/haddad/Documents/1Comp/csi_22/lista1.ipynb Cell 9\u001b[0m in \u001b[0;36mdraw_spirals\u001b[0;34m(t, n)\u001b[0m\n\u001b[1;32m      <a href='vscode-notebook-cell:/Users/haddad/Documents/1Comp/csi_22/lista1.ipynb#X16sZmlsZQ%3D%3D?line=7'>8</a>\u001b[0m \u001b[39mfor\u001b[39;00m i \u001b[39min\u001b[39;00m \u001b[39mrange\u001b[39m(n):\n\u001b[1;32m      <a href='vscode-notebook-cell:/Users/haddad/Documents/1Comp/csi_22/lista1.ipynb#X16sZmlsZQ%3D%3D?line=8'>9</a>\u001b[0m     t\u001b[39m.\u001b[39mforward(i\u001b[39m+\u001b[39m\u001b[39m2\u001b[39m)\n\u001b[0;32m---> <a href='vscode-notebook-cell:/Users/haddad/Documents/1Comp/csi_22/lista1.ipynb#X16sZmlsZQ%3D%3D?line=9'>10</a>\u001b[0m     t\u001b[39m.\u001b[39;49mright(\u001b[39m90\u001b[39;49m)\n\u001b[1;32m     <a href='vscode-notebook-cell:/Users/haddad/Documents/1Comp/csi_22/lista1.ipynb#X16sZmlsZQ%3D%3D?line=10'>11</a>\u001b[0m t\u001b[39m.\u001b[39mup()\n\u001b[1;32m     <a href='vscode-notebook-cell:/Users/haddad/Documents/1Comp/csi_22/lista1.ipynb#X16sZmlsZQ%3D%3D?line=11'>12</a>\u001b[0m t\u001b[39m.\u001b[39msetpos(x\u001b[39m=\u001b[39m\u001b[39m100\u001b[39m, y\u001b[39m=\u001b[39m\u001b[39m0\u001b[39m)\n",
      "File \u001b[0;32m~/opt/anaconda3/lib/python3.9/turtle.py:1679\u001b[0m, in \u001b[0;36mTNavigator.right\u001b[0;34m(self, angle)\u001b[0m\n\u001b[1;32m   1660\u001b[0m \u001b[39mdef\u001b[39;00m \u001b[39mright\u001b[39m(\u001b[39mself\u001b[39m, angle):\n\u001b[1;32m   1661\u001b[0m     \u001b[39m\"\"\"Turn turtle right by angle units.\u001b[39;00m\n\u001b[1;32m   1662\u001b[0m \n\u001b[1;32m   1663\u001b[0m \u001b[39m    Aliases: right | rt\u001b[39;00m\n\u001b[0;32m   (...)\u001b[0m\n\u001b[1;32m   1677\u001b[0m \u001b[39m    337.0\u001b[39;00m\n\u001b[1;32m   1678\u001b[0m \u001b[39m    \"\"\"\u001b[39;00m\n\u001b[0;32m-> 1679\u001b[0m     \u001b[39mself\u001b[39;49m\u001b[39m.\u001b[39;49m_rotate(\u001b[39m-\u001b[39;49mangle)\n",
      "File \u001b[0;32m~/opt/anaconda3/lib/python3.9/turtle.py:3278\u001b[0m, in \u001b[0;36mRawTurtle._rotate\u001b[0;34m(self, angle)\u001b[0m\n\u001b[1;32m   3276\u001b[0m     \u001b[39mfor\u001b[39;00m _ \u001b[39min\u001b[39;00m \u001b[39mrange\u001b[39m(steps):\n\u001b[1;32m   3277\u001b[0m         \u001b[39mself\u001b[39m\u001b[39m.\u001b[39m_orient \u001b[39m=\u001b[39m \u001b[39mself\u001b[39m\u001b[39m.\u001b[39m_orient\u001b[39m.\u001b[39mrotate(delta)\n\u001b[0;32m-> 3278\u001b[0m         \u001b[39mself\u001b[39;49m\u001b[39m.\u001b[39;49m_update()\n\u001b[1;32m   3279\u001b[0m \u001b[39mself\u001b[39m\u001b[39m.\u001b[39m_orient \u001b[39m=\u001b[39m neworient\n\u001b[1;32m   3280\u001b[0m \u001b[39mself\u001b[39m\u001b[39m.\u001b[39m_update()\n",
      "File \u001b[0;32m~/opt/anaconda3/lib/python3.9/turtle.py:2661\u001b[0m, in \u001b[0;36mRawTurtle._update\u001b[0;34m(self)\u001b[0m\n\u001b[1;32m   2659\u001b[0m     \u001b[39mreturn\u001b[39;00m\n\u001b[1;32m   2660\u001b[0m \u001b[39melif\u001b[39;00m screen\u001b[39m.\u001b[39m_tracing \u001b[39m==\u001b[39m \u001b[39m1\u001b[39m:\n\u001b[0;32m-> 2661\u001b[0m     \u001b[39mself\u001b[39;49m\u001b[39m.\u001b[39;49m_update_data()\n\u001b[1;32m   2662\u001b[0m     \u001b[39mself\u001b[39m\u001b[39m.\u001b[39m_drawturtle()\n\u001b[1;32m   2663\u001b[0m     screen\u001b[39m.\u001b[39m_update()                  \u001b[39m# TurtleScreenBase\u001b[39;00m\n",
      "File \u001b[0;32m~/opt/anaconda3/lib/python3.9/turtle.py:2647\u001b[0m, in \u001b[0;36mRawTurtle._update_data\u001b[0;34m(self)\u001b[0m\n\u001b[1;32m   2646\u001b[0m \u001b[39mdef\u001b[39;00m \u001b[39m_update_data\u001b[39m(\u001b[39mself\u001b[39m):\n\u001b[0;32m-> 2647\u001b[0m     \u001b[39mself\u001b[39;49m\u001b[39m.\u001b[39;49mscreen\u001b[39m.\u001b[39;49m_incrementudc()\n\u001b[1;32m   2648\u001b[0m     \u001b[39mif\u001b[39;00m \u001b[39mself\u001b[39m\u001b[39m.\u001b[39mscreen\u001b[39m.\u001b[39m_updatecounter \u001b[39m!=\u001b[39m \u001b[39m0\u001b[39m:\n\u001b[1;32m   2649\u001b[0m         \u001b[39mreturn\u001b[39;00m\n",
      "File \u001b[0;32m~/opt/anaconda3/lib/python3.9/turtle.py:1293\u001b[0m, in \u001b[0;36mTurtleScreen._incrementudc\u001b[0;34m(self)\u001b[0m\n\u001b[1;32m   1291\u001b[0m \u001b[39mif\u001b[39;00m \u001b[39mnot\u001b[39;00m TurtleScreen\u001b[39m.\u001b[39m_RUNNING:\n\u001b[1;32m   1292\u001b[0m     TurtleScreen\u001b[39m.\u001b[39m_RUNNING \u001b[39m=\u001b[39m \u001b[39mTrue\u001b[39;00m\n\u001b[0;32m-> 1293\u001b[0m     \u001b[39mraise\u001b[39;00m Terminator\n\u001b[1;32m   1294\u001b[0m \u001b[39mif\u001b[39;00m \u001b[39mself\u001b[39m\u001b[39m.\u001b[39m_tracing \u001b[39m>\u001b[39m \u001b[39m0\u001b[39m:\n\u001b[1;32m   1295\u001b[0m     \u001b[39mself\u001b[39m\u001b[39m.\u001b[39m_updatecounter \u001b[39m+\u001b[39m\u001b[39m=\u001b[39m \u001b[39m1\u001b[39m\n",
      "\u001b[0;31mTerminator\u001b[0m: "
     ]
    }
   ],
   "source": [
    "import turtle\n",
    "import numpy as np\n",
    "\n",
    "def draw_spirals(t, n):\n",
    "    t.up()\n",
    "    t.setpos(x=-100, y=0)\n",
    "    t.down()\n",
    "    for i in range(n):\n",
    "        t.forward(i+2)\n",
    "        t.right(90)\n",
    "    t.up()\n",
    "    t.setpos(x=100, y=0)\n",
    "    t.down()\n",
    "    for i in range(n):\n",
    "        t.forward(i+2)\n",
    "        t.right(91)\n",
    "\n",
    "wn = turtle.Screen()\n",
    "wn.bgcolor(\"lightgreen\")\n",
    "wn.title(\"Spiral Drawing\")\n",
    "alex = turtle.Turtle()\n",
    "\n",
    "draw_spirals(alex, 100)"
   ]
  }
 ],
 "metadata": {
  "kernelspec": {
   "display_name": "Python 3 (ipykernel)",
   "language": "python",
   "name": "python3"
  },
  "language_info": {
   "codemirror_mode": {
    "name": "ipython",
    "version": 3
   },
   "file_extension": ".py",
   "mimetype": "text/x-python",
   "name": "python",
   "nbconvert_exporter": "python",
   "pygments_lexer": "ipython3",
   "version": "3.9.13"
  },
  "orig_nbformat": 4
 },
 "nbformat": 4,
 "nbformat_minor": 2
}
