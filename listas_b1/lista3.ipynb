{
 "cells": [
  {
   "attachments": {},
   "cell_type": "markdown",
   "metadata": {},
   "source": [
    "# Lista 3 de CSI-22"
   ]
  },
  {
   "attachments": {},
   "cell_type": "markdown",
   "metadata": {},
   "source": [
    "## Questão 1"
   ]
  },
  {
   "cell_type": "code",
   "execution_count": 2,
   "metadata": {},
   "outputs": [
    {
     "name": "stdout",
     "output_type": "stream",
     "text": [
      "Total Bus fare is: 5500.0\n"
     ]
    }
   ],
   "source": [
    "class Vehicle:\n",
    "    def __init__(self, name, mileage, capacity):\n",
    "        self.name = name\n",
    "        self.mileage = mileage\n",
    "        self.capacity = capacity\n",
    "\n",
    "    def fare(self):\n",
    "        return self.capacity * 100\n",
    "\n",
    "class Bus(Vehicle):\n",
    "    def fare(self):\n",
    "        return (super().fare())*1.1\n",
    "\n",
    "School_bus = Bus(\"School Volvo\", 12, 50)\n",
    "print(\"Total Bus fare is:\", School_bus.fare())"
   ]
  },
  {
   "attachments": {},
   "cell_type": "markdown",
   "metadata": {},
   "source": [
    "## Questão 2"
   ]
  },
  {
   "cell_type": "code",
   "execution_count": 6,
   "metadata": {},
   "outputs": [
    {
     "name": "stdout",
     "output_type": "stream",
     "text": [
      "Electronic\n"
     ]
    }
   ],
   "source": [
    "class Electronic:\n",
    "    def type(self):\n",
    "        print(\"Electronic\")\n",
    "\n",
    "class Computer(Electronic):\n",
    "    pass\n",
    "\n",
    "mac = Computer()\n",
    "mac.type()"
   ]
  },
  {
   "cell_type": "code",
   "execution_count": 12,
   "metadata": {},
   "outputs": [
    {
     "name": "stdout",
     "output_type": "stream",
     "text": [
      "Electronic\n",
      "Computer\n"
     ]
    }
   ],
   "source": [
    "class Electronic:\n",
    "    def type(self):\n",
    "        print(\"Electronic\")\n",
    "\n",
    "class Computer:\n",
    "    def type(self):\n",
    "        print(\"Computer\")\n",
    "\n",
    "class Apple(Electronic, Computer):\n",
    "    pass\n",
    "\n",
    "class Dell(Computer, Electronic):\n",
    "    pass\n",
    "\n",
    "m1 = Apple()\n",
    "xps = Dell()\n",
    "\n",
    "m1.type()\n",
    "xps.type()\n"
   ]
  },
  {
   "attachments": {},
   "cell_type": "markdown",
   "metadata": {},
   "source": [
    "## Questão 3"
   ]
  },
  {
   "cell_type": "code",
   "execution_count": 13,
   "metadata": {},
   "outputs": [
    {
     "name": "stdout",
     "output_type": "stream",
     "text": [
      "Turning MacOS on...\n",
      "Turnin Windows OS on...\n"
     ]
    }
   ],
   "source": [
    "class Computer:\n",
    "    def __init__(self, model):\n",
    "        self.model = model\n",
    "    \n",
    "    def turnOn(self):\n",
    "        pass\n",
    "\n",
    "class Windows(Computer):\n",
    "    def turnOn(self):\n",
    "        print(\"Turnin Windows OS on...\")\n",
    "\n",
    "class Mac(Computer):\n",
    "    def turnOn(self):\n",
    "        print(\"Turning MacOS on...\")\n",
    "\n",
    "computers = [Mac(\"M1\"), Windows(\"Dell\")]\n",
    "\n",
    "for computer in computers:\n",
    "    computer.turnOn()"
   ]
  },
  {
   "cell_type": "code",
   "execution_count": 16,
   "metadata": {},
   "outputs": [
    {
     "name": "stdout",
     "output_type": "stream",
     "text": [
      "Quack!\n",
      "Printing Quack! on screen!\n"
     ]
    }
   ],
   "source": [
    "class Duck:\n",
    "    def __init__(self, name):\n",
    "        self.name = name\n",
    "    def quack(self):\n",
    "        print(\"Quack!\")\n",
    "\n",
    "class Computer:\n",
    "    def __init__(self, model):\n",
    "        self.model = model\n",
    "    def quack(self):\n",
    "        print(\"Printing Quack! on screen!\")\n",
    "\n",
    "def quacks(object):\n",
    "    object.quack()\n",
    "\n",
    "things = ([Duck(\"little duck\"), Computer(\"Laptop\")])\n",
    "for i in things:\n",
    "    quacks(i)\n"
   ]
  },
  {
   "attachments": {},
   "cell_type": "markdown",
   "metadata": {},
   "source": [
    "## Questão 4"
   ]
  },
  {
   "cell_type": "markdown",
   "metadata": {},
   "source": [
    "### Método de Instância"
   ]
  },
  {
   "cell_type": "code",
   "execution_count": 22,
   "metadata": {},
   "outputs": [
    {
     "name": "stdout",
     "output_type": "stream",
     "text": [
      "96\n",
      "40\n"
     ]
    }
   ],
   "source": [
    "class Rectangle:\n",
    "    def __init__(self, width, height):\n",
    "        self.width = width\n",
    "        self.height = height\n",
    "\n",
    "    def area(self):\n",
    "        return self.width*self.height\n",
    "\n",
    "    def perimeter(self):\n",
    "        return 2*(self.width+self.height)\n",
    "\n",
    "rectangle = Rectangle(8, 12)\n",
    "print(rectangle.area())       # Output: 50\n",
    "print(rectangle.perimeter())  # Output: 30\n"
   ]
  },
  {
   "attachments": {},
   "cell_type": "markdown",
   "metadata": {},
   "source": [
    "### Método de Classe"
   ]
  },
  {
   "cell_type": "code",
   "execution_count": 20,
   "metadata": {},
   "outputs": [
    {
     "name": "stdout",
     "output_type": "stream",
     "text": [
      "3\n"
     ]
    }
   ],
   "source": [
    "class Person:\n",
    "    total_people = 0\n",
    "\n",
    "    def __init__(self, name, age):\n",
    "        self.name = name\n",
    "        self.age = age\n",
    "        Person.total_people += 1\n",
    "\n",
    "    @classmethod\n",
    "    def count_people(cls):\n",
    "        return cls.total_people\n",
    "\n",
    "person1 = Person(\"Maraca\", 25)\n",
    "person2 = Person(\"Doce\", 30)\n",
    "person3 = Person(\"Vilela\", 24)\n",
    "\n",
    "print(Person.count_people()) # Output: 2\n"
   ]
  },
  {
   "attachments": {},
   "cell_type": "markdown",
   "metadata": {},
   "source": [
    "### Métodos estáticos"
   ]
  },
  {
   "cell_type": "code",
   "execution_count": 18,
   "metadata": {},
   "outputs": [
    {
     "name": "stdout",
     "output_type": "stream",
     "text": [
      "2.0\n",
      "6\n"
     ]
    }
   ],
   "source": [
    "class Operations:\n",
    "    @staticmethod\n",
    "    def divide(a,b):\n",
    "        return a/b\n",
    "    def multiply(a,b):\n",
    "        return a*b\n",
    "    \n",
    "print(Operations.divide(14,7))\n",
    "print(Operations.multiply(2,3))"
   ]
  }
 ],
 "metadata": {
  "kernelspec": {
   "display_name": "Python 3 (ipykernel)",
   "language": "python",
   "name": "python3"
  },
  "language_info": {
   "codemirror_mode": {
    "name": "ipython",
    "version": 3
   },
   "file_extension": ".py",
   "mimetype": "text/x-python",
   "name": "python",
   "nbconvert_exporter": "python",
   "pygments_lexer": "ipython3",
   "version": "3.9.13"
  },
  "orig_nbformat": 4
 },
 "nbformat": 4,
 "nbformat_minor": 2
}
